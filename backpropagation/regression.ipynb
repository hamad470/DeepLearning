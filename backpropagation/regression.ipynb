{
 "cells": [
  {
   "cell_type": "code",
   "execution_count": 57,
   "metadata": {},
   "outputs": [],
   "source": [
    "import numpy as np\n",
    "import pandas as pd"
   ]
  },
  {
   "cell_type": "code",
   "execution_count": 58,
   "metadata": {},
   "outputs": [
    {
     "data": {
      "text/html": [
       "<div>\n",
       "<style scoped>\n",
       "    .dataframe tbody tr th:only-of-type {\n",
       "        vertical-align: middle;\n",
       "    }\n",
       "\n",
       "    .dataframe tbody tr th {\n",
       "        vertical-align: top;\n",
       "    }\n",
       "\n",
       "    .dataframe thead th {\n",
       "        text-align: right;\n",
       "    }\n",
       "</style>\n",
       "<table border=\"1\" class=\"dataframe\">\n",
       "  <thead>\n",
       "    <tr style=\"text-align: right;\">\n",
       "      <th></th>\n",
       "      <th>cgpa</th>\n",
       "      <th>profile_score</th>\n",
       "      <th>lpa</th>\n",
       "    </tr>\n",
       "  </thead>\n",
       "  <tbody>\n",
       "    <tr>\n",
       "      <th>0</th>\n",
       "      <td>8</td>\n",
       "      <td>8</td>\n",
       "      <td>4</td>\n",
       "    </tr>\n",
       "    <tr>\n",
       "      <th>1</th>\n",
       "      <td>7</td>\n",
       "      <td>9</td>\n",
       "      <td>5</td>\n",
       "    </tr>\n",
       "    <tr>\n",
       "      <th>2</th>\n",
       "      <td>6</td>\n",
       "      <td>10</td>\n",
       "      <td>6</td>\n",
       "    </tr>\n",
       "    <tr>\n",
       "      <th>3</th>\n",
       "      <td>5</td>\n",
       "      <td>12</td>\n",
       "      <td>7</td>\n",
       "    </tr>\n",
       "  </tbody>\n",
       "</table>\n",
       "</div>"
      ],
      "text/plain": [
       "   cgpa  profile_score  lpa\n",
       "0     8              8    4\n",
       "1     7              9    5\n",
       "2     6             10    6\n",
       "3     5             12    7"
      ]
     },
     "execution_count": 58,
     "metadata": {},
     "output_type": "execute_result"
    }
   ],
   "source": [
    "df = pd.DataFrame([[8,8,4],[7,9,5],[6,10,6],[5,12,7]],columns=['cgpa','profile_score','lpa'])\n",
    "df"
   ]
  },
  {
   "cell_type": "code",
   "execution_count": 59,
   "metadata": {},
   "outputs": [
    {
     "data": {
      "text/plain": [
       "{'w1': array([[0.1, 0.1],\n",
       "        [0.1, 0.1]]),\n",
       " 'b1': array([[0.],\n",
       "        [0.]]),\n",
       " 'w2': array([[0.1],\n",
       "        [0.1]]),\n",
       " 'b2': array([[0.]])}"
      ]
     },
     "execution_count": 59,
     "metadata": {},
     "output_type": "execute_result"
    }
   ],
   "source": [
    "parameters ={}\n",
    "def initialize_parameters(dims):\n",
    "    L= len(dims)\n",
    "    for l in range(1,L):\n",
    "        parameters[\"w\"+str(l)] = np.ones((dims[l-1],dims[l]))*0.1\n",
    "        parameters[\"b\"+str(l)] = np.zeros((dims[l],1))\n",
    "\n",
    "\n",
    "initialize_parameters([2,2,1])\n",
    "parameters"
   ]
  },
  {
   "cell_type": "code",
   "execution_count": 75,
   "metadata": {},
   "outputs": [],
   "source": [
    "def linear_forward(A_prev,w,b):\n",
    "   z = np.dot(w.T,A_prev)+b\n",
    "   return z"
   ]
  },
  {
   "cell_type": "code",
   "execution_count": null,
   "metadata": {},
   "outputs": [],
   "source": [
    "preds =[]\n",
    "A_prevs =[]\n",
    "def forward_propagation(parameters,X_org,Y):\n",
    "    for i in range(len(X)):  \n",
    "          \n",
    "        A=X_org[i].reshape(2,1)\n",
    "        X= X_org[i].reshape(2,1)\n",
    "        y =Y[i]\n",
    "        print(\"A before\",A)\n",
    "        L= (len(parameters)//2)+1\n",
    "        print(L)\n",
    "        for l in range(1,L):\n",
    "            A_prev = A\n",
    "            print(\"w\"+str(l) + \": \",parameters['w'+str(l)])\n",
    "            print(\"b\"+str(l) + \": \",parameters['b'+str(l)])\n",
    "            print(\"---\"*20)\n",
    "            A = linear_forward(A_prev,parameters['w'+str(l)],parameters['b'+str(l)])\n",
    "            print(\"A\"+str(l)+\": \",A)\n",
    "            print(\"**\"*20)\n",
    "        y_hat =A\n",
    "        A_prevs.append(A_prev),preds.append(y_hat[0][0])\n",
    "        update_parameters(X,y,y_hat,parameters,A_prev)\n",
    "       \n",
    "        \n",
    "\n",
    "    \n",
    "\n"
   ]
  },
  {
   "cell_type": "code",
   "execution_count": null,
   "metadata": {},
   "outputs": [
    {
     "name": "stdout",
     "output_type": "stream",
     "text": [
      "A before [[8]\n",
      " [8]]\n",
      "3\n",
      "w1:  [[0.1 0.1]\n",
      " [0.1 0.1]]\n",
      "b1:  [[0.]\n",
      " [0.]]\n",
      "------------------------------------------------------------\n",
      "A1:  [[1.6]\n",
      " [1.6]]\n",
      "****************************************\n",
      "w2:  [[0.1]\n",
      " [0.1]]\n",
      "b2:  [[0.]]\n",
      "------------------------------------------------------------\n",
      "A2:  [[0.32]]\n",
      "****************************************\n",
      "A before [[7]\n",
      " [9]]\n",
      "3\n",
      "w1:  [[0.1 0.1]\n",
      " [0.1 0.1]]\n",
      "b1:  [[0.]\n",
      " [0.]]\n",
      "------------------------------------------------------------\n",
      "A1:  [[1.6]\n",
      " [1.6]]\n",
      "****************************************\n",
      "w2:  [[0.1]\n",
      " [0.1]]\n",
      "b2:  [[0.]]\n",
      "------------------------------------------------------------\n",
      "A2:  [[0.32]]\n",
      "****************************************\n",
      "A before [[ 6]\n",
      " [10]]\n",
      "3\n",
      "w1:  [[0.1 0.1]\n",
      " [0.1 0.1]]\n",
      "b1:  [[0.]\n",
      " [0.]]\n",
      "------------------------------------------------------------\n",
      "A1:  [[1.6]\n",
      " [1.6]]\n",
      "****************************************\n",
      "w2:  [[0.1]\n",
      " [0.1]]\n",
      "b2:  [[0.]]\n",
      "------------------------------------------------------------\n",
      "A2:  [[0.32]]\n",
      "****************************************\n",
      "A before [[ 5]\n",
      " [12]]\n",
      "3\n",
      "w1:  [[0.1 0.1]\n",
      " [0.1 0.1]]\n",
      "b1:  [[0.]\n",
      " [0.]]\n",
      "------------------------------------------------------------\n",
      "A1:  [[1.7]\n",
      " [1.7]]\n",
      "****************************************\n",
      "w2:  [[0.1]\n",
      " [0.1]]\n",
      "b2:  [[0.]]\n",
      "------------------------------------------------------------\n",
      "A2:  [[0.34]]\n",
      "****************************************\n"
     ]
    }
   ],
   "source": [
    "# X =df[['cgpa','profile_score']].values[0].reshape(2,1)\n",
    "X=df[['cgpa','profile_score']].values\n",
    "d= X[0]\n",
    "# print(X)\n",
    "# y=df['lpa'].values[0]\n",
    "y=df['lpa'].values\n",
    "# print(y)\n",
    "# forward_propagation(parameters,X,y)"
   ]
  },
  {
   "cell_type": "code",
   "execution_count": 70,
   "metadata": {},
   "outputs": [],
   "source": [
    "def calculate_loss(y,y_hat):\n",
    "    loss =(y-y_hat)**2\n",
    "    return loss"
   ]
  },
  {
   "cell_type": "code",
   "execution_count": 46,
   "metadata": {},
   "outputs": [],
   "source": [
    "loss = calculate_loss(y,y_hat)\n",
    "loss\n",
    "lr=0.001"
   ]
  },
  {
   "cell_type": "code",
   "execution_count": null,
   "metadata": {},
   "outputs": [
    {
     "data": {
      "text/plain": [
       "0.0"
      ]
     },
     "execution_count": 53,
     "metadata": {},
     "output_type": "execute_result"
    }
   ],
   "source": [
    "parameters['w2'][1][0]\n",
    "A_prev[1][0]\n",
    "parameters['b2'][0][0]"
   ]
  },
  {
   "cell_type": "code",
   "execution_count": null,
   "metadata": {},
   "outputs": [],
   "source": [
    "def update_parameters(X,y,y_hat,parameters,A_prev):\n",
    "    parameters['w2'][0][0] = parameters['w2'][0][0] + (lr*2*(y-y_hat)*A[0][0])\n",
    "    parameters['w2'][1][0] = parameters['w2'][1][0] + (lr*2*(y-y_hat)*A[1][0])\n",
    "    parameters['b2'][0][0] = parameters['b2'][0][0] + (lr*2*(y-y_hat))\n",
    "    parameters['w1'][0][0] = parameters['w1'][0][0] + (lr*2*(y-y_hat)*parameters[\"w2\"][0][0]*X[0][0])\n",
    "    parameters['w1'][0][1] = parameters['w1'][0][1] + (lr*2*(y-y_hat)*parameters[\"w2\"][0][0]*X[1][0])\n",
    "    parameters['b1'][0][0] = parameters['b1'][0][0] + (lr*2*(y-y_hat)*parameters[\"w2\"][0][0])\n",
    "    parameters['w1'][1][0] = parameters['w1'][1][0] + (lr*2*(y-y_hat)*parameters[\"w2\"][1][0]*X[0][0])\n",
    "    parameters['w1'][1][1] = parameters['w1'][1][1] + (lr*2*(y-y_hat)*parameters[\"w2\"][1][0]*X[1][0])\n",
    "    parameters['b1'][1][0] = parameters['b1'][1][0] + (lr*2*(y-y_hat)*parameters[\"w2\"][1][0])"
   ]
  },
  {
   "cell_type": "code",
   "execution_count": 55,
   "metadata": {},
   "outputs": [
    {
     "name": "stderr",
     "output_type": "stream",
     "text": [
      "C:\\Users\\PMLS\\AppData\\Local\\Temp\\ipykernel_18384\\1525064843.py:2: DeprecationWarning: Conversion of an array with ndim > 0 to a scalar is deprecated, and will error in future. Ensure you extract a single element from your array before performing this operation. (Deprecated NumPy 1.25.)\n",
      "  parameters['w2'][0][0] = parameters['w2'][0][0] + (lr*2*(y-y_hat)*A[0][0])\n",
      "C:\\Users\\PMLS\\AppData\\Local\\Temp\\ipykernel_18384\\1525064843.py:3: DeprecationWarning: Conversion of an array with ndim > 0 to a scalar is deprecated, and will error in future. Ensure you extract a single element from your array before performing this operation. (Deprecated NumPy 1.25.)\n",
      "  parameters['w2'][1][0] = parameters['w2'][1][0] + (lr*2*(y-y_hat)*A[1][0])\n",
      "C:\\Users\\PMLS\\AppData\\Local\\Temp\\ipykernel_18384\\1525064843.py:4: DeprecationWarning: Conversion of an array with ndim > 0 to a scalar is deprecated, and will error in future. Ensure you extract a single element from your array before performing this operation. (Deprecated NumPy 1.25.)\n",
      "  parameters['b2'][0][0] = parameters['b2'][0][0] + (lr*2*(y-y_hat))\n",
      "C:\\Users\\PMLS\\AppData\\Local\\Temp\\ipykernel_18384\\1525064843.py:5: DeprecationWarning: Conversion of an array with ndim > 0 to a scalar is deprecated, and will error in future. Ensure you extract a single element from your array before performing this operation. (Deprecated NumPy 1.25.)\n",
      "  parameters['w1'][0][0] = parameters['w1'][0][0] + (lr*2*(y-y_hat)*parameters[\"w2\"][0][0]*X[0][0])\n",
      "C:\\Users\\PMLS\\AppData\\Local\\Temp\\ipykernel_18384\\1525064843.py:6: DeprecationWarning: Conversion of an array with ndim > 0 to a scalar is deprecated, and will error in future. Ensure you extract a single element from your array before performing this operation. (Deprecated NumPy 1.25.)\n",
      "  parameters['w1'][0][1] = parameters['w1'][0][1] + (lr*2*(y-y_hat)*parameters[\"w2\"][0][0]*X[1][0])\n",
      "C:\\Users\\PMLS\\AppData\\Local\\Temp\\ipykernel_18384\\1525064843.py:7: DeprecationWarning: Conversion of an array with ndim > 0 to a scalar is deprecated, and will error in future. Ensure you extract a single element from your array before performing this operation. (Deprecated NumPy 1.25.)\n",
      "  parameters['b1'][0][0] = parameters['b1'][0][0] + (lr*2*(y-y_hat)*parameters[\"w2\"][0][0])\n",
      "C:\\Users\\PMLS\\AppData\\Local\\Temp\\ipykernel_18384\\1525064843.py:8: DeprecationWarning: Conversion of an array with ndim > 0 to a scalar is deprecated, and will error in future. Ensure you extract a single element from your array before performing this operation. (Deprecated NumPy 1.25.)\n",
      "  parameters['w1'][1][0] = parameters['w1'][1][0] + (lr*2*(y-y_hat)*parameters[\"w2\"][1][0]*X[0][0])\n",
      "C:\\Users\\PMLS\\AppData\\Local\\Temp\\ipykernel_18384\\1525064843.py:9: DeprecationWarning: Conversion of an array with ndim > 0 to a scalar is deprecated, and will error in future. Ensure you extract a single element from your array before performing this operation. (Deprecated NumPy 1.25.)\n",
      "  parameters['w1'][1][1] = parameters['w1'][1][1] + (lr*2*(y-y_hat)*parameters[\"w2\"][1][0]*X[1][0])\n",
      "C:\\Users\\PMLS\\AppData\\Local\\Temp\\ipykernel_18384\\1525064843.py:10: DeprecationWarning: Conversion of an array with ndim > 0 to a scalar is deprecated, and will error in future. Ensure you extract a single element from your array before performing this operation. (Deprecated NumPy 1.25.)\n",
      "  parameters['b1'][1][0] = parameters['b1'][1][0] + (lr*2*(y-y_hat)*parameters[\"w2\"][1][0])\n"
     ]
    }
   ],
   "source": [
    "update_parameters(X,y,y_hat,parameters,A)"
   ]
  },
  {
   "cell_type": "code",
   "execution_count": 56,
   "metadata": {},
   "outputs": [
    {
     "data": {
      "text/plain": [
       "{'w1': array([[0.10658137, 0.10658137],\n",
       "        [0.10658137, 0.10658137]]),\n",
       " 'b1': array([[0.00082267],\n",
       "        [0.00082267]]),\n",
       " 'w2': array([[0.111776],\n",
       "        [0.111776]]),\n",
       " 'b2': array([[0.00736]])}"
      ]
     },
     "execution_count": 56,
     "metadata": {},
     "output_type": "execute_result"
    }
   ],
   "source": [
    "parameters"
   ]
  },
  {
   "cell_type": "code",
   "execution_count": null,
   "metadata": {},
   "outputs": [],
   "source": []
  }
 ],
 "metadata": {
  "kernelspec": {
   "display_name": "Python 3",
   "language": "python",
   "name": "python3"
  },
  "language_info": {
   "codemirror_mode": {
    "name": "ipython",
    "version": 3
   },
   "file_extension": ".py",
   "mimetype": "text/x-python",
   "name": "python",
   "nbconvert_exporter": "python",
   "pygments_lexer": "ipython3",
   "version": "3.12.2"
  }
 },
 "nbformat": 4,
 "nbformat_minor": 2
}
