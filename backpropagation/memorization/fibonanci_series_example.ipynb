{
 "cells": [
  {
   "cell_type": "code",
   "execution_count": 1,
   "metadata": {},
   "outputs": [],
   "source": [
    "import time"
   ]
  },
  {
   "cell_type": "code",
   "execution_count": 4,
   "metadata": {},
   "outputs": [],
   "source": [
    "def fib(n):\n",
    "    if n==1 or n ==0 :\n",
    "        return 1\n",
    "    else:\n",
    "        return fib(n-1) +fib(n-2)"
   ]
  },
  {
   "cell_type": "markdown",
   "metadata": {},
   "source": [
    "## Time taken before memorization\n",
    "timecomplexity in thois function is exponential see below time it takes in seconds \n"
   ]
  },
  {
   "cell_type": "code",
   "execution_count": 5,
   "metadata": {},
   "outputs": [
    {
     "name": "stdout",
     "output_type": "stream",
     "text": [
      "time taken in seconds :  12.652159929275513\n"
     ]
    }
   ],
   "source": [
    "start = time.time()\n",
    "fib(40)\n",
    "time_taken = time.time() - start\n",
    "print(\"time taken in seconds : \",time_taken)"
   ]
  },
  {
   "cell_type": "markdown",
   "metadata": {},
   "source": [
    "## Time taken after memorization \n",
    "even in calculation of fib(100) with memorization takes time in milli seconds"
   ]
  },
  {
   "cell_type": "code",
   "execution_count": 2,
   "metadata": {},
   "outputs": [],
   "source": [
    "dic ={0:1,1:1}\n",
    "def fib_with_meomorization(d,n):\n",
    "    if n in d:\n",
    "        return d[n]\n",
    "    else:\n",
    "        d[n] = fib_with_meomorization(d,n-1) +fib_with_meomorization(d,n-2)\n",
    "        return d[n]"
   ]
  },
  {
   "cell_type": "code",
   "execution_count": 3,
   "metadata": {},
   "outputs": [
    {
     "name": "stdout",
     "output_type": "stream",
     "text": [
      "0.0010006427764892578\n"
     ]
    }
   ],
   "source": [
    "start = time.time()\n",
    "fib_with_meomorization(dic,38)\n",
    "print(time.time() - start)\n",
    "# print(\"time taken in seconds : \",time_taken)"
   ]
  },
  {
   "cell_type": "code",
   "execution_count": null,
   "metadata": {},
   "outputs": [],
   "source": []
  }
 ],
 "metadata": {
  "kernelspec": {
   "display_name": "Python 3",
   "language": "python",
   "name": "python3"
  },
  "language_info": {
   "codemirror_mode": {
    "name": "ipython",
    "version": 3
   },
   "file_extension": ".py",
   "mimetype": "text/x-python",
   "name": "python",
   "nbconvert_exporter": "python",
   "pygments_lexer": "ipython3",
   "version": "3.12.2"
  }
 },
 "nbformat": 4,
 "nbformat_minor": 2
}
