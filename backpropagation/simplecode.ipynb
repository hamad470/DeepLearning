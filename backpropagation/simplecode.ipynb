{
 "cells": [
  {
   "cell_type": "code",
   "execution_count": 116,
   "metadata": {},
   "outputs": [],
   "source": [
    "import numpy as np\n",
    "import pandas as pd"
   ]
  },
  {
   "cell_type": "code",
   "execution_count": 117,
   "metadata": {},
   "outputs": [
    {
     "data": {
      "text/html": [
       "<div>\n",
       "<style scoped>\n",
       "    .dataframe tbody tr th:only-of-type {\n",
       "        vertical-align: middle;\n",
       "    }\n",
       "\n",
       "    .dataframe tbody tr th {\n",
       "        vertical-align: top;\n",
       "    }\n",
       "\n",
       "    .dataframe thead th {\n",
       "        text-align: right;\n",
       "    }\n",
       "</style>\n",
       "<table border=\"1\" class=\"dataframe\">\n",
       "  <thead>\n",
       "    <tr style=\"text-align: right;\">\n",
       "      <th></th>\n",
       "      <th>cgpa</th>\n",
       "      <th>profile_score</th>\n",
       "      <th>lpa</th>\n",
       "    </tr>\n",
       "  </thead>\n",
       "  <tbody>\n",
       "    <tr>\n",
       "      <th>0</th>\n",
       "      <td>8</td>\n",
       "      <td>8</td>\n",
       "      <td>4</td>\n",
       "    </tr>\n",
       "    <tr>\n",
       "      <th>1</th>\n",
       "      <td>7</td>\n",
       "      <td>9</td>\n",
       "      <td>5</td>\n",
       "    </tr>\n",
       "    <tr>\n",
       "      <th>2</th>\n",
       "      <td>6</td>\n",
       "      <td>10</td>\n",
       "      <td>6</td>\n",
       "    </tr>\n",
       "    <tr>\n",
       "      <th>3</th>\n",
       "      <td>5</td>\n",
       "      <td>12</td>\n",
       "      <td>7</td>\n",
       "    </tr>\n",
       "  </tbody>\n",
       "</table>\n",
       "</div>"
      ],
      "text/plain": [
       "   cgpa  profile_score  lpa\n",
       "0     8              8    4\n",
       "1     7              9    5\n",
       "2     6             10    6\n",
       "3     5             12    7"
      ]
     },
     "execution_count": 117,
     "metadata": {},
     "output_type": "execute_result"
    }
   ],
   "source": [
    "df = pd.DataFrame([[8,8,4],[7,9,5],[6,10,6],[5,12,7]],columns=['cgpa','profile_score','lpa'])\n",
    "df"
   ]
  },
  {
   "cell_type": "code",
   "execution_count": 118,
   "metadata": {},
   "outputs": [
    {
     "data": {
      "text/plain": [
       "{'w1': array([[0.1, 0.1],\n",
       "        [0.1, 0.1]]),\n",
       " 'b1': array([[0.],\n",
       "        [0.]]),\n",
       " 'w2': array([[0.1],\n",
       "        [0.1]]),\n",
       " 'b2': array([[0.]])}"
      ]
     },
     "execution_count": 118,
     "metadata": {},
     "output_type": "execute_result"
    }
   ],
   "source": [
    "parameters ={}\n",
    "def initialize_parameters(dims):\n",
    "    L= len(dims)\n",
    "    for l in range(1,L):\n",
    "        parameters[\"w\"+str(l)] = np.ones((dims[l-1],dims[l]))*0.1\n",
    "        parameters[\"b\"+str(l)] = np.zeros((dims[l],1))\n",
    "\n",
    "\n",
    "initialize_parameters([2,2,1])\n",
    "parameters"
   ]
  },
  {
   "cell_type": "code",
   "execution_count": 119,
   "metadata": {},
   "outputs": [],
   "source": [
    "def linear_forward(A_prev,w,b):\n",
    "   z = np.dot(w.T,A_prev)+b\n",
    "   return z"
   ]
  },
  {
   "cell_type": "code",
   "execution_count": 120,
   "metadata": {},
   "outputs": [],
   "source": [
    "def update_parameters(X,y,y_hat,parameters,A_prev):\n",
    "    lr=0.001\n",
    "    parameters['w2'][0][0] = parameters['w2'][0][0] + (lr*2*(y-y_hat)*A[0][0])\n",
    "    parameters['w2'][1][0] = parameters['w2'][1][0] + (lr*2*(y-y_hat)*A[1][0])\n",
    "    parameters['b2'][0][0] = parameters['b2'][0][0] + (lr*2*(y-y_hat))\n",
    "    parameters['w1'][0][0] = parameters['w1'][0][0] + (lr*2*(y-y_hat)*parameters[\"w2\"][0][0]*X[0][0])\n",
    "    parameters['w1'][0][1] = parameters['w1'][0][1] + (lr*2*(y-y_hat)*parameters[\"w2\"][0][0]*X[1][0])\n",
    "    parameters['b1'][0][0] = parameters['b1'][0][0] + (lr*2*(y-y_hat)*parameters[\"w2\"][0][0])\n",
    "    parameters['w1'][1][0] = parameters['w1'][1][0] + (lr*2*(y-y_hat)*parameters[\"w2\"][1][0]*X[0][0])\n",
    "    parameters['w1'][1][1] = parameters['w1'][1][1] + (lr*2*(y-y_hat)*parameters[\"w2\"][1][0]*X[1][0])\n",
    "    parameters['b1'][1][0] = parameters['b1'][1][0] + (lr*2*(y-y_hat)*parameters[\"w2\"][1][0])"
   ]
  },
  {
   "cell_type": "code",
   "execution_count": 121,
   "metadata": {},
   "outputs": [],
   "source": [
    "def calculate_loss(y,y_hat):\n",
    "    loss =(y-y_hat)**2\n",
    "    return loss"
   ]
  },
  {
   "cell_type": "code",
   "execution_count": 122,
   "metadata": {},
   "outputs": [],
   "source": [
    "preds =[]\n",
    "A_prevs =[]\n",
    "def forward_propagation(parameters,X_org,Y):\n",
    "    for i in range(100):\n",
    "        loss_a=[]\n",
    "        for i in range(len(X_org)):  \n",
    "            \n",
    "            A=X_org[i].reshape(2,1)\n",
    "            X= X_org[i].reshape(2,1)\n",
    "            y =Y[i]\n",
    "            # print(\"A before\",A)\n",
    "            L= (len(parameters)//2)+1\n",
    "            # print(L)\n",
    "            for l in range(1,L):\n",
    "                A_prev = A\n",
    "                # print(\"w\"+str(l) + \": \",parameters['w'+str(l)])\n",
    "                # print(\"b\"+str(l) + \": \",parameters['b'+str(l)])\n",
    "                # print(\"---\"*20)\n",
    "                A = linear_forward(A_prev,parameters['w'+str(l)],parameters['b'+str(l)])\n",
    "                # print(\"A\"+str(l)+\": \",A)\n",
    "                # print(\"**\"*20)\n",
    "            y_hat =A\n",
    "            A_prevs.append(A_prev),preds.append(y_hat[0][0])\n",
    "            A_prev = A_prevs[i]\n",
    "            update_parameters(X,y,y_hat,parameters,A_prev)\n",
    "            loss = calculate_loss(y,y_hat)\n",
    "            loss_a.append(loss)\n",
    "        print(\"avg loss : \",np.array(loss_a).mean())    \n",
    "            \n",
    "       \n",
    "        \n",
    "\n",
    "    \n",
    "\n"
   ]
  },
  {
   "cell_type": "code",
   "execution_count": 123,
   "metadata": {},
   "outputs": [
    {
     "name": "stdout",
     "output_type": "stream",
     "text": [
      "avg loss :  26.35272275030904\n",
      "avg loss :  20.808482016354063\n",
      "avg loss :  14.384468213032704\n",
      "avg loss :  8.70909550349861\n",
      "avg loss :  4.818911758579068\n",
      "avg loss :  2.6763266183892918\n",
      "avg loss :  1.691157085494766\n",
      "avg loss :  1.3029007914716766\n",
      "avg loss :  1.1726449387523665\n",
      "avg loss :  1.1391739794480555\n",
      "avg loss :  1.1368849388424538\n",
      "avg loss :  1.142216285523142\n",
      "avg loss :  1.1478434848436034\n",
      "avg loss :  1.1520651416422578\n",
      "avg loss :  1.1548733441828483\n",
      "avg loss :  1.1566326595868741\n",
      "avg loss :  1.1576935717193866\n",
      "avg loss :  1.1583124719961848\n",
      "avg loss :  1.1586589674356793\n",
      "avg loss :  1.1588400383622828\n",
      "avg loss :  1.1589214961451761\n",
      "avg loss :  1.1589432705830336\n",
      "avg loss :  1.158929399660034\n",
      "avg loss :  1.1588942900220598\n",
      "avg loss :  1.1588465541798938\n",
      "avg loss :  1.1587913336026132\n",
      "avg loss :  1.1587316953493492\n",
      "avg loss :  1.1586694683768488\n",
      "avg loss :  1.1586057431958543\n",
      "avg loss :  1.1585411700231716\n",
      "avg loss :  1.158476136578665\n",
      "avg loss :  1.158410874079995\n",
      "avg loss :  1.1583455204269004\n",
      "avg loss :  1.1582801578674247\n",
      "avg loss :  1.1582148354546358\n",
      "avg loss :  1.158149582437551\n",
      "avg loss :  1.1580844162476311\n",
      "avg loss :  1.1580193472629718\n",
      "avg loss :  1.157954381650912\n",
      "avg loss :  1.1578895230644448\n",
      "avg loss :  1.1578247736548606\n",
      "avg loss :  1.157760134676332\n",
      "avg loss :  1.157695606846973\n",
      "avg loss :  1.1576311905644945\n",
      "avg loss :  1.1575668860350619\n",
      "avg loss :  1.15750269335028\n",
      "avg loss :  1.1574386125332314\n",
      "avg loss :  1.1573746435659793\n",
      "avg loss :  1.1573107864060241\n",
      "avg loss :  1.1572470409961477\n",
      "avg loss :  1.1571834072702938\n",
      "avg loss :  1.157119885157101\n",
      "avg loss :  1.1570564745820011\n",
      "avg loss :  1.1569931754684877\n",
      "avg loss :  1.156929987738871\n",
      "avg loss :  1.1568669113147272\n",
      "avg loss :  1.1568039461171744\n",
      "avg loss :  1.1567410920670356\n",
      "avg loss :  1.1566783490849273\n",
      "avg loss :  1.1566157170913312\n",
      "avg loss :  1.1565531960066193\n",
      "avg loss :  1.1564907857510773\n",
      "avg loss :  1.1564284862449214\n",
      "avg loss :  1.156366297408297\n",
      "avg loss :  1.1563042191612967\n",
      "avg loss :  1.1562422514239512\n",
      "avg loss :  1.1561803941162343\n",
      "avg loss :  1.1561186471580687\n",
      "avg loss :  1.1560570104693217\n",
      "avg loss :  1.155995483969804\n",
      "avg loss :  1.1559340675792777\n",
      "avg loss :  1.1558727612174517\n",
      "avg loss :  1.155811564803975\n",
      "avg loss :  1.155750478258456\n",
      "avg loss :  1.1556895015004416\n",
      "avg loss :  1.1556286344494282\n",
      "avg loss :  1.1555678770248605\n",
      "avg loss :  1.1555072291461344\n",
      "avg loss :  1.1554466907325875\n",
      "avg loss :  1.155386261703514\n",
      "avg loss :  1.155325941978146\n",
      "avg loss :  1.155265731475673\n",
      "avg loss :  1.1552056301152291\n",
      "avg loss :  1.1551456378158989\n",
      "avg loss :  1.1550857544967148\n",
      "avg loss :  1.1550259800766547\n",
      "avg loss :  1.1549663144746556\n",
      "avg loss :  1.1549067576095906\n",
      "avg loss :  1.1548473094002916\n",
      "avg loss :  1.1547879697655392\n",
      "avg loss :  1.1547287386240597\n",
      "avg loss :  1.1546696158945322\n",
      "avg loss :  1.154610601495584\n",
      "avg loss :  1.1545516953457922\n",
      "avg loss :  1.1544928973636868\n",
      "avg loss :  1.154434207467745\n",
      "avg loss :  1.1543756255763964\n",
      "avg loss :  1.1543171516080204\n",
      "avg loss :  1.154258785480946\n",
      "avg loss :  1.1542005271134572\n"
     ]
    },
    {
     "name": "stderr",
     "output_type": "stream",
     "text": [
      "C:\\Users\\PMLS\\AppData\\Local\\Temp\\ipykernel_18384\\1626725864.py:3: DeprecationWarning: Conversion of an array with ndim > 0 to a scalar is deprecated, and will error in future. Ensure you extract a single element from your array before performing this operation. (Deprecated NumPy 1.25.)\n",
      "  parameters['w2'][0][0] = parameters['w2'][0][0] + (lr*2*(y-y_hat)*A[0][0])\n",
      "C:\\Users\\PMLS\\AppData\\Local\\Temp\\ipykernel_18384\\1626725864.py:4: DeprecationWarning: Conversion of an array with ndim > 0 to a scalar is deprecated, and will error in future. Ensure you extract a single element from your array before performing this operation. (Deprecated NumPy 1.25.)\n",
      "  parameters['w2'][1][0] = parameters['w2'][1][0] + (lr*2*(y-y_hat)*A[1][0])\n",
      "C:\\Users\\PMLS\\AppData\\Local\\Temp\\ipykernel_18384\\1626725864.py:5: DeprecationWarning: Conversion of an array with ndim > 0 to a scalar is deprecated, and will error in future. Ensure you extract a single element from your array before performing this operation. (Deprecated NumPy 1.25.)\n",
      "  parameters['b2'][0][0] = parameters['b2'][0][0] + (lr*2*(y-y_hat))\n",
      "C:\\Users\\PMLS\\AppData\\Local\\Temp\\ipykernel_18384\\1626725864.py:6: DeprecationWarning: Conversion of an array with ndim > 0 to a scalar is deprecated, and will error in future. Ensure you extract a single element from your array before performing this operation. (Deprecated NumPy 1.25.)\n",
      "  parameters['w1'][0][0] = parameters['w1'][0][0] + (lr*2*(y-y_hat)*parameters[\"w2\"][0][0]*X[0][0])\n",
      "C:\\Users\\PMLS\\AppData\\Local\\Temp\\ipykernel_18384\\1626725864.py:7: DeprecationWarning: Conversion of an array with ndim > 0 to a scalar is deprecated, and will error in future. Ensure you extract a single element from your array before performing this operation. (Deprecated NumPy 1.25.)\n",
      "  parameters['w1'][0][1] = parameters['w1'][0][1] + (lr*2*(y-y_hat)*parameters[\"w2\"][0][0]*X[1][0])\n",
      "C:\\Users\\PMLS\\AppData\\Local\\Temp\\ipykernel_18384\\1626725864.py:8: DeprecationWarning: Conversion of an array with ndim > 0 to a scalar is deprecated, and will error in future. Ensure you extract a single element from your array before performing this operation. (Deprecated NumPy 1.25.)\n",
      "  parameters['b1'][0][0] = parameters['b1'][0][0] + (lr*2*(y-y_hat)*parameters[\"w2\"][0][0])\n",
      "C:\\Users\\PMLS\\AppData\\Local\\Temp\\ipykernel_18384\\1626725864.py:9: DeprecationWarning: Conversion of an array with ndim > 0 to a scalar is deprecated, and will error in future. Ensure you extract a single element from your array before performing this operation. (Deprecated NumPy 1.25.)\n",
      "  parameters['w1'][1][0] = parameters['w1'][1][0] + (lr*2*(y-y_hat)*parameters[\"w2\"][1][0]*X[0][0])\n",
      "C:\\Users\\PMLS\\AppData\\Local\\Temp\\ipykernel_18384\\1626725864.py:10: DeprecationWarning: Conversion of an array with ndim > 0 to a scalar is deprecated, and will error in future. Ensure you extract a single element from your array before performing this operation. (Deprecated NumPy 1.25.)\n",
      "  parameters['w1'][1][1] = parameters['w1'][1][1] + (lr*2*(y-y_hat)*parameters[\"w2\"][1][0]*X[1][0])\n",
      "C:\\Users\\PMLS\\AppData\\Local\\Temp\\ipykernel_18384\\1626725864.py:11: DeprecationWarning: Conversion of an array with ndim > 0 to a scalar is deprecated, and will error in future. Ensure you extract a single element from your array before performing this operation. (Deprecated NumPy 1.25.)\n",
      "  parameters['b1'][1][0] = parameters['b1'][1][0] + (lr*2*(y-y_hat)*parameters[\"w2\"][1][0])\n"
     ]
    }
   ],
   "source": [
    "# X =df[['cgpa','profile_score']].values[0].reshape(2,1)\n",
    "X=df[['cgpa','profile_score']].values\n",
    "d= X[0]\n",
    "# print(X)\n",
    "# y=df['lpa'].values[0]\n",
    "y=df['lpa'].values\n",
    "# print(y)\n",
    "forward_propagation(parameters,X,y)"
   ]
  },
  {
   "cell_type": "code",
   "execution_count": null,
   "metadata": {},
   "outputs": [],
   "source": []
  },
  {
   "cell_type": "code",
   "execution_count": null,
   "metadata": {},
   "outputs": [],
   "source": [
    "\n",
    "loss\n",
    "lr=0.001"
   ]
  },
  {
   "cell_type": "code",
   "execution_count": null,
   "metadata": {},
   "outputs": [
    {
     "data": {
      "text/plain": [
       "0.0"
      ]
     },
     "execution_count": 53,
     "metadata": {},
     "output_type": "execute_result"
    }
   ],
   "source": [
    "parameters['w2'][1][0]\n",
    "A_prev[1][0]\n",
    "parameters['b2'][0][0]"
   ]
  },
  {
   "cell_type": "code",
   "execution_count": null,
   "metadata": {},
   "outputs": [],
   "source": []
  },
  {
   "cell_type": "code",
   "execution_count": null,
   "metadata": {},
   "outputs": [
    {
     "name": "stderr",
     "output_type": "stream",
     "text": [
      "C:\\Users\\PMLS\\AppData\\Local\\Temp\\ipykernel_18384\\1525064843.py:2: DeprecationWarning: Conversion of an array with ndim > 0 to a scalar is deprecated, and will error in future. Ensure you extract a single element from your array before performing this operation. (Deprecated NumPy 1.25.)\n",
      "  parameters['w2'][0][0] = parameters['w2'][0][0] + (lr*2*(y-y_hat)*A[0][0])\n",
      "C:\\Users\\PMLS\\AppData\\Local\\Temp\\ipykernel_18384\\1525064843.py:3: DeprecationWarning: Conversion of an array with ndim > 0 to a scalar is deprecated, and will error in future. Ensure you extract a single element from your array before performing this operation. (Deprecated NumPy 1.25.)\n",
      "  parameters['w2'][1][0] = parameters['w2'][1][0] + (lr*2*(y-y_hat)*A[1][0])\n",
      "C:\\Users\\PMLS\\AppData\\Local\\Temp\\ipykernel_18384\\1525064843.py:4: DeprecationWarning: Conversion of an array with ndim > 0 to a scalar is deprecated, and will error in future. Ensure you extract a single element from your array before performing this operation. (Deprecated NumPy 1.25.)\n",
      "  parameters['b2'][0][0] = parameters['b2'][0][0] + (lr*2*(y-y_hat))\n",
      "C:\\Users\\PMLS\\AppData\\Local\\Temp\\ipykernel_18384\\1525064843.py:5: DeprecationWarning: Conversion of an array with ndim > 0 to a scalar is deprecated, and will error in future. Ensure you extract a single element from your array before performing this operation. (Deprecated NumPy 1.25.)\n",
      "  parameters['w1'][0][0] = parameters['w1'][0][0] + (lr*2*(y-y_hat)*parameters[\"w2\"][0][0]*X[0][0])\n",
      "C:\\Users\\PMLS\\AppData\\Local\\Temp\\ipykernel_18384\\1525064843.py:6: DeprecationWarning: Conversion of an array with ndim > 0 to a scalar is deprecated, and will error in future. Ensure you extract a single element from your array before performing this operation. (Deprecated NumPy 1.25.)\n",
      "  parameters['w1'][0][1] = parameters['w1'][0][1] + (lr*2*(y-y_hat)*parameters[\"w2\"][0][0]*X[1][0])\n",
      "C:\\Users\\PMLS\\AppData\\Local\\Temp\\ipykernel_18384\\1525064843.py:7: DeprecationWarning: Conversion of an array with ndim > 0 to a scalar is deprecated, and will error in future. Ensure you extract a single element from your array before performing this operation. (Deprecated NumPy 1.25.)\n",
      "  parameters['b1'][0][0] = parameters['b1'][0][0] + (lr*2*(y-y_hat)*parameters[\"w2\"][0][0])\n",
      "C:\\Users\\PMLS\\AppData\\Local\\Temp\\ipykernel_18384\\1525064843.py:8: DeprecationWarning: Conversion of an array with ndim > 0 to a scalar is deprecated, and will error in future. Ensure you extract a single element from your array before performing this operation. (Deprecated NumPy 1.25.)\n",
      "  parameters['w1'][1][0] = parameters['w1'][1][0] + (lr*2*(y-y_hat)*parameters[\"w2\"][1][0]*X[0][0])\n",
      "C:\\Users\\PMLS\\AppData\\Local\\Temp\\ipykernel_18384\\1525064843.py:9: DeprecationWarning: Conversion of an array with ndim > 0 to a scalar is deprecated, and will error in future. Ensure you extract a single element from your array before performing this operation. (Deprecated NumPy 1.25.)\n",
      "  parameters['w1'][1][1] = parameters['w1'][1][1] + (lr*2*(y-y_hat)*parameters[\"w2\"][1][0]*X[1][0])\n",
      "C:\\Users\\PMLS\\AppData\\Local\\Temp\\ipykernel_18384\\1525064843.py:10: DeprecationWarning: Conversion of an array with ndim > 0 to a scalar is deprecated, and will error in future. Ensure you extract a single element from your array before performing this operation. (Deprecated NumPy 1.25.)\n",
      "  parameters['b1'][1][0] = parameters['b1'][1][0] + (lr*2*(y-y_hat)*parameters[\"w2\"][1][0])\n"
     ]
    }
   ],
   "source": [
    "# update_parameters(X,y,y_hat,parameters,A)"
   ]
  },
  {
   "cell_type": "code",
   "execution_count": 56,
   "metadata": {},
   "outputs": [
    {
     "data": {
      "text/plain": [
       "{'w1': array([[0.10658137, 0.10658137],\n",
       "        [0.10658137, 0.10658137]]),\n",
       " 'b1': array([[0.00082267],\n",
       "        [0.00082267]]),\n",
       " 'w2': array([[0.111776],\n",
       "        [0.111776]]),\n",
       " 'b2': array([[0.00736]])}"
      ]
     },
     "execution_count": 56,
     "metadata": {},
     "output_type": "execute_result"
    }
   ],
   "source": [
    "parameters"
   ]
  },
  {
   "cell_type": "code",
   "execution_count": null,
   "metadata": {},
   "outputs": [],
   "source": []
  }
 ],
 "metadata": {
  "kernelspec": {
   "display_name": "Python 3",
   "language": "python",
   "name": "python3"
  },
  "language_info": {
   "codemirror_mode": {
    "name": "ipython",
    "version": 3
   },
   "file_extension": ".py",
   "mimetype": "text/x-python",
   "name": "python",
   "nbconvert_exporter": "python",
   "pygments_lexer": "ipython3",
   "version": "3.12.2"
  }
 },
 "nbformat": 4,
 "nbformat_minor": 2
}
